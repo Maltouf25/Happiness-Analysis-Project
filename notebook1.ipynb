{
 "cells": [
  {
   "cell_type": "code",
   "execution_count": 1,
   "metadata": {},
   "outputs": [],
   "source": [
    "import pandas as pd\n",
    "import numpy as np\n",
    "import matplotlib.pyplot as plt\n",
    "import seaborn as sns\n",
    "import plotly.express as px\n",
    "from sklearn import preprocessing, model_selection\n",
    "import missingno as msno"
   ]
  },
  {
   "cell_type": "code",
   "execution_count": 6,
   "metadata": {},
   "outputs": [],
   "source": [
    "# ## Import data stored in google Cloud \n",
    "\n",
    "# wvs_path = \"gs://wvs-happiness-data/WVS_Time_Series_1981-2022_csv_v5_0.csv\"\n",
    "# df = pd.read_csv(wvs_path)\n",
    "# print(df.head())\n"
   ]
  },
  {
   "cell_type": "code",
   "execution_count": 2,
   "metadata": {},
   "outputs": [
    {
     "data": {
      "text/html": [
       "<div>\n",
       "<style scoped>\n",
       "    .dataframe tbody tr th:only-of-type {\n",
       "        vertical-align: middle;\n",
       "    }\n",
       "\n",
       "    .dataframe tbody tr th {\n",
       "        vertical-align: top;\n",
       "    }\n",
       "\n",
       "    .dataframe thead th {\n",
       "        text-align: right;\n",
       "    }\n",
       "</style>\n",
       "<table border=\"1\" class=\"dataframe\">\n",
       "  <thead>\n",
       "    <tr style=\"text-align: right;\">\n",
       "      <th></th>\n",
       "      <th>version</th>\n",
       "      <th>doi</th>\n",
       "      <th>S001</th>\n",
       "      <th>S002VS</th>\n",
       "      <th>S003</th>\n",
       "      <th>COUNTRY_ALPHA</th>\n",
       "      <th>COW_NUM</th>\n",
       "      <th>COW_ALPHA</th>\n",
       "      <th>S004</th>\n",
       "      <th>S006</th>\n",
       "      <th>...</th>\n",
       "      <th>Y023A</th>\n",
       "      <th>Y023B</th>\n",
       "      <th>Y023C</th>\n",
       "      <th>Y024A</th>\n",
       "      <th>Y024B</th>\n",
       "      <th>Y024C</th>\n",
       "      <th>survself</th>\n",
       "      <th>tradrat5</th>\n",
       "      <th>TradAgg</th>\n",
       "      <th>SurvSAgg</th>\n",
       "    </tr>\n",
       "  </thead>\n",
       "  <tbody>\n",
       "    <tr>\n",
       "      <th>0</th>\n",
       "      <td>5-0-0 (2024-04-30)</td>\n",
       "      <td>doi.org/10.14281/18241.25</td>\n",
       "      <td>2</td>\n",
       "      <td>3</td>\n",
       "      <td>8</td>\n",
       "      <td>ALB</td>\n",
       "      <td>339</td>\n",
       "      <td>ALB</td>\n",
       "      <td>1</td>\n",
       "      <td>1</td>\n",
       "      <td>...</td>\n",
       "      <td>0.000000</td>\n",
       "      <td>0.444444</td>\n",
       "      <td>0.444444</td>\n",
       "      <td>0.33</td>\n",
       "      <td>0.0</td>\n",
       "      <td>0.165</td>\n",
       "      <td>-1.011276</td>\n",
       "      <td>0.160847</td>\n",
       "      <td>0.158964</td>\n",
       "      <td>-1.792410</td>\n",
       "    </tr>\n",
       "    <tr>\n",
       "      <th>1</th>\n",
       "      <td>5-0-0 (2024-04-30)</td>\n",
       "      <td>doi.org/10.14281/18241.25</td>\n",
       "      <td>2</td>\n",
       "      <td>3</td>\n",
       "      <td>8</td>\n",
       "      <td>ALB</td>\n",
       "      <td>339</td>\n",
       "      <td>ALB</td>\n",
       "      <td>1</td>\n",
       "      <td>2</td>\n",
       "      <td>...</td>\n",
       "      <td>0.111111</td>\n",
       "      <td>0.444444</td>\n",
       "      <td>0.444444</td>\n",
       "      <td>0.33</td>\n",
       "      <td>0.0</td>\n",
       "      <td>0.165</td>\n",
       "      <td>-0.688773</td>\n",
       "      <td>0.409283</td>\n",
       "      <td>0.558946</td>\n",
       "      <td>-1.208679</td>\n",
       "    </tr>\n",
       "    <tr>\n",
       "      <th>2</th>\n",
       "      <td>5-0-0 (2024-04-30)</td>\n",
       "      <td>doi.org/10.14281/18241.25</td>\n",
       "      <td>2</td>\n",
       "      <td>3</td>\n",
       "      <td>8</td>\n",
       "      <td>ALB</td>\n",
       "      <td>339</td>\n",
       "      <td>ALB</td>\n",
       "      <td>1</td>\n",
       "      <td>3</td>\n",
       "      <td>...</td>\n",
       "      <td>0.000000</td>\n",
       "      <td>0.444444</td>\n",
       "      <td>0.444444</td>\n",
       "      <td>0.33</td>\n",
       "      <td>0.5</td>\n",
       "      <td>0.415</td>\n",
       "      <td>NaN</td>\n",
       "      <td>NaN</td>\n",
       "      <td>NaN</td>\n",
       "      <td>NaN</td>\n",
       "    </tr>\n",
       "    <tr>\n",
       "      <th>3</th>\n",
       "      <td>5-0-0 (2024-04-30)</td>\n",
       "      <td>doi.org/10.14281/18241.25</td>\n",
       "      <td>2</td>\n",
       "      <td>3</td>\n",
       "      <td>8</td>\n",
       "      <td>ALB</td>\n",
       "      <td>339</td>\n",
       "      <td>ALB</td>\n",
       "      <td>1</td>\n",
       "      <td>4</td>\n",
       "      <td>...</td>\n",
       "      <td>0.000000</td>\n",
       "      <td>0.333333</td>\n",
       "      <td>0.333333</td>\n",
       "      <td>0.33</td>\n",
       "      <td>0.0</td>\n",
       "      <td>0.165</td>\n",
       "      <td>-1.319863</td>\n",
       "      <td>0.733956</td>\n",
       "      <td>1.081669</td>\n",
       "      <td>-2.350952</td>\n",
       "    </tr>\n",
       "    <tr>\n",
       "      <th>4</th>\n",
       "      <td>5-0-0 (2024-04-30)</td>\n",
       "      <td>doi.org/10.14281/18241.25</td>\n",
       "      <td>2</td>\n",
       "      <td>3</td>\n",
       "      <td>8</td>\n",
       "      <td>ALB</td>\n",
       "      <td>339</td>\n",
       "      <td>ALB</td>\n",
       "      <td>1</td>\n",
       "      <td>5</td>\n",
       "      <td>...</td>\n",
       "      <td>0.000000</td>\n",
       "      <td>0.333333</td>\n",
       "      <td>0.333333</td>\n",
       "      <td>0.00</td>\n",
       "      <td>0.5</td>\n",
       "      <td>0.250</td>\n",
       "      <td>NaN</td>\n",
       "      <td>NaN</td>\n",
       "      <td>NaN</td>\n",
       "      <td>NaN</td>\n",
       "    </tr>\n",
       "  </tbody>\n",
       "</table>\n",
       "<p>5 rows × 1046 columns</p>\n",
       "</div>"
      ],
      "text/plain": [
       "              version                        doi  S001  S002VS  S003  \\\n",
       "0  5-0-0 (2024-04-30)  doi.org/10.14281/18241.25     2       3     8   \n",
       "1  5-0-0 (2024-04-30)  doi.org/10.14281/18241.25     2       3     8   \n",
       "2  5-0-0 (2024-04-30)  doi.org/10.14281/18241.25     2       3     8   \n",
       "3  5-0-0 (2024-04-30)  doi.org/10.14281/18241.25     2       3     8   \n",
       "4  5-0-0 (2024-04-30)  doi.org/10.14281/18241.25     2       3     8   \n",
       "\n",
       "  COUNTRY_ALPHA  COW_NUM COW_ALPHA  S004  S006  ...     Y023A     Y023B  \\\n",
       "0           ALB      339       ALB     1     1  ...  0.000000  0.444444   \n",
       "1           ALB      339       ALB     1     2  ...  0.111111  0.444444   \n",
       "2           ALB      339       ALB     1     3  ...  0.000000  0.444444   \n",
       "3           ALB      339       ALB     1     4  ...  0.000000  0.333333   \n",
       "4           ALB      339       ALB     1     5  ...  0.000000  0.333333   \n",
       "\n",
       "      Y023C  Y024A  Y024B  Y024C  survself  tradrat5   TradAgg  SurvSAgg  \n",
       "0  0.444444   0.33    0.0  0.165 -1.011276  0.160847  0.158964 -1.792410  \n",
       "1  0.444444   0.33    0.0  0.165 -0.688773  0.409283  0.558946 -1.208679  \n",
       "2  0.444444   0.33    0.5  0.415       NaN       NaN       NaN       NaN  \n",
       "3  0.333333   0.33    0.0  0.165 -1.319863  0.733956  1.081669 -2.350952  \n",
       "4  0.333333   0.00    0.5  0.250       NaN       NaN       NaN       NaN  \n",
       "\n",
       "[5 rows x 1046 columns]"
      ]
     },
     "execution_count": 2,
     "metadata": {},
     "output_type": "execute_result"
    }
   ],
   "source": [
    "wvs_path = \"C:/Users/PC/Desktop/data/WVS_Time_Series_1981-2022_csv_v5_0.csv\"\n",
    "df = pd.read_csv(wvs_path)\n",
    "df.head()"
   ]
  },
  {
   "cell_type": "markdown",
   "metadata": {},
   "source": [
    "##"
   ]
  },
  {
   "cell_type": "markdown",
   "metadata": {},
   "source": [
    "# Data Preprocessing"
   ]
  },
  {
   "cell_type": "code",
   "execution_count": 3,
   "metadata": {},
   "outputs": [],
   "source": [
    "# representing missing data by nan istead of numerical values\n",
    "missing_values = [-1, -2,-3, -4, -5]\n",
    "df.replace(missing_values, np.nan, inplace=True)"
   ]
  },
  {
   "cell_type": "code",
   "execution_count": 4,
   "metadata": {},
   "outputs": [],
   "source": [
    "# Drop meta data and composed columns\n",
    "df=df.drop(columns = [col for col in df.columns if col.startswith('Y')] )"
   ]
  },
  {
   "cell_type": "markdown",
   "metadata": {},
   "source": [
    "# Data Cleaning\n",
    "> Preparing data is a continuous process rather than a one-time task. "
   ]
  },
  {
   "cell_type": "code",
   "execution_count": 9,
   "metadata": {},
   "outputs": [
    {
     "data": {
      "text/plain": [
       "array([dtype('O'), dtype('int64'), dtype('float64')], dtype=object)"
      ]
     },
     "execution_count": 9,
     "metadata": {},
     "output_type": "execute_result"
    }
   ],
   "source": [
    "df.dtypes.unique()"
   ]
  },
  {
   "cell_type": "markdown",
   "metadata": {},
   "source": [
    "### Handling Missing Data"
   ]
  },
  {
   "cell_type": "code",
   "execution_count": 5,
   "metadata": {},
   "outputs": [
    {
     "name": "stdout",
     "output_type": "stream",
     "text": [
      "F186       99.916345\n",
      "A124_31    99.905973\n",
      "G007_13    99.894924\n",
      "F187       99.891542\n",
      "E216       99.845994\n",
      "             ...    \n",
      "A042        0.710729\n",
      "A038        0.692240\n",
      "A029        0.674877\n",
      "A035        0.584683\n",
      "A032        0.563939\n",
      "Length: 990, dtype: float64\n"
     ]
    }
   ],
   "source": [
    "# visualize Missing DATA \n",
    "missing_percentage = (df.isnull().sum() / len(df)) * 100\n",
    "missing_percentage = missing_percentage[missing_percentage > 0]  \n",
    "missing_percentage = missing_percentage.sort_values(ascending=False)  \n",
    "\n",
    "print(missing_percentage)"
   ]
  },
  {
   "cell_type": "markdown",
   "metadata": {},
   "source": [
    "what is the pattern of missing data ?\n",
    "how to handle missing data?\n",
    "what columns/rows to drop , what columns/rows to keep ? \n",
    "how to impute the missing values ? \n",
    " Why are these values missing?\n",
    "Is missingness random or systematic?\n",
    "Does missingness affect the target variable?\n",
    "Will imputing missing data introduce bias?\n",
    "Can missingness itself be a feature?\n",
    "What is the best imputation method based on data distribution?\n",
    "Do I need domain knowledge to understand why data is missing?"
   ]
  },
  {
   "cell_type": "code",
   "execution_count": 11,
   "metadata": {},
   "outputs": [],
   "source": [
    "# Dataset after missing data handling \n"
   ]
  },
  {
   "cell_type": "markdown",
   "metadata": {},
   "source": [
    "# Data Transformation"
   ]
  },
  {
   "cell_type": "code",
   "execution_count": null,
   "metadata": {},
   "outputs": [],
   "source": []
  },
  {
   "cell_type": "markdown",
   "metadata": {},
   "source": [
    "# Feature Selection "
   ]
  },
  {
   "cell_type": "code",
   "execution_count": null,
   "metadata": {},
   "outputs": [],
   "source": []
  },
  {
   "cell_type": "code",
   "execution_count": null,
   "metadata": {},
   "outputs": [],
   "source": []
  },
  {
   "cell_type": "markdown",
   "metadata": {},
   "source": [
    "# Predicting happiness "
   ]
  },
  {
   "cell_type": "markdown",
   "metadata": {},
   "source": [
    "Predicting the features :\n",
    "- A008 (Feeling of happiness) \n",
    "- A170 (Satisfaction with life) \n"
   ]
  },
  {
   "cell_type": "code",
   "execution_count": 6,
   "metadata": {},
   "outputs": [
    {
     "name": "stdout",
     "output_type": "stream",
     "text": [
      "[ 3.  2.  1.  4. nan]\n",
      "[ 3.  9.  4.  7.  5.  2.  8.  6.  1. nan 10.]\n"
     ]
    }
   ],
   "source": [
    "# determine the range of values\n",
    "for col in ['A008','A170']:\n",
    "   print(df[col].unique())"
   ]
  },
  {
   "cell_type": "code",
   "execution_count": 37,
   "metadata": {},
   "outputs": [
    {
     "data": {
      "image/png": "[encoded data removed]",
      "text/plain": [
       "<Figure size 1200x500 with 2 Axes>"
      ]
     },
     "metadata": {},
     "output_type": "display_data"
    }
   ],
   "source": [
    "\n",
    "# Count the occurrences of each category/value and sort by index\n",
    "counts_A008 = df['A008'].value_counts().sort_index()\n",
    "counts_A170 = df['A170'].value_counts().sort_index()\n",
    "\n",
    "# Create a figure with two subplots\n",
    "fig, axes = plt.subplots(1, 2, figsize=(12, 5))\n",
    "\n",
    "# Plot bar chart for A008\n",
    "axes[0].bar(counts_A008.index.astype(str), counts_A008.values, color='skyblue')\n",
    "axes[0].set_title('Distribution of Feeling of Happiness')\n",
    "axes[0].set_xlabel('A008 Values')\n",
    "axes[0].set_ylabel('Count')\n",
    "\n",
    "# Plot bar chart for A170\n",
    "axes[1].bar(counts_A170.index.astype(str), counts_A170.values, color='salmon')\n",
    "axes[1].set_title('Distribution of Life satisfaction')\n",
    "axes[1].set_xlabel('A170 Values')\n",
    "axes[1].set_ylabel('Count')\n",
    "\n",
    "plt.tight_layout()\n",
    "plt.show()\n"
   ]
  },
  {
   "cell_type": "markdown",
   "metadata": {},
   "source": [
    "### Ordinal Logistic Regression  (Proportional Odds Model)\n"
   ]
  },
  {
   "cell_type": "markdown",
   "metadata": {},
   "source": [
    "##### first iteration"
   ]
  },
  {
   "cell_type": "markdown",
   "metadata": {},
   "source": []
  },
  {
   "cell_type": "code",
   "execution_count": null,
   "metadata": {},
   "outputs": [],
   "source": [
    "selected_features = ['X047R_WVS','X047_WVS','A009','X007']"
   ]
  },
  {
   "cell_type": "code",
   "execution_count": null,
   "metadata": {},
   "outputs": [],
   "source": []
  },
  {
   "cell_type": "code",
   "execution_count": null,
   "metadata": {},
   "outputs": [],
   "source": []
  },
  {
   "cell_type": "markdown",
   "metadata": {},
   "source": [
    "##### GENERAL interation"
   ]
  },
  {
   "cell_type": "code",
   "execution_count": 33,
   "metadata": {},
   "outputs": [
    {
     "data": {
      "text/plain": [
       "(443488, 326)"
      ]
     },
     "execution_count": 33,
     "metadata": {},
     "output_type": "execute_result"
    }
   ],
   "source": [
    "## cleaning the data \n",
    "# drop highly missing columns\n",
    "df_cl = df.dropna(axis=1, thresh=int(0.3 * len(df)))\n",
    "df_cl.shape"
   ]
  },
  {
   "cell_type": "code",
   "execution_count": 34,
   "metadata": {},
   "outputs": [
    {
     "data": {
      "text/plain": [
       "(111621, 326)"
      ]
     },
     "execution_count": 34,
     "metadata": {},
     "output_type": "execute_result"
    }
   ],
   "source": [
    "# drop highly missing rows\n",
    "df_cl = df_cl.dropna(axis=0, thresh=int(0.25* df.shape[1]))\n",
    "df_cl.shape"
   ]
  },
  {
   "cell_type": "code",
   "execution_count": 14,
   "metadata": {},
   "outputs": [],
   "source": [
    "## Transforming the data \n"
   ]
  },
  {
   "cell_type": "code",
   "execution_count": 15,
   "metadata": {},
   "outputs": [],
   "source": [
    "## Building the model \n",
    "# from sklearn.model_selection import train_test_split\n",
    "# import statsmodels.api as sm\n",
    "# from statsmodels.miscmodels.ordinal_model import OrderedModel\n",
    "# from sklearn.metrics import accuracy_score\n",
    "\n",
    "# X=df.drop(columns=['A008'])\n",
    "# y = df['A008']\n",
    "\n",
    "# X_train , X_test , y_train , y_test = train_test_split(X,y,test_size=0.2)\n",
    "\n",
    "# model = OrderedModel(\n",
    "#     y_train,  # Target variable (ordinal)\n",
    "#     sm.add_constant(X_train),  # Features (with an intercept)\n",
    "#     distr=\"logit\"  # Proportional odds model (use 'probit' for an alternative)\n",
    "# )\n",
    "# result = model.fit(method='bfgs')\n",
    "\n",
    "# y_pred = result.predict(sm.add_constant(X_test))\n",
    "\n",
    "# # Convert probabilities to class labels (choose highest probability)\n",
    "# y_pred_classes = np.argmax(y_pred, axis=1) + 1  # +1 because indexing starts at 0\n",
    "\n",
    "\n",
    "# accuracy = accuracy_score(y_test, y_pred_classes)\n",
    "# print(f'Accuracy: {accuracy:.4f}')"
   ]
  },
  {
   "cell_type": "code",
   "execution_count": null,
   "metadata": {},
   "outputs": [],
   "source": []
  },
  {
   "cell_type": "markdown",
   "metadata": {},
   "source": [
    "### Random Forest / Decision Tree"
   ]
  },
  {
   "cell_type": "code",
   "execution_count": 16,
   "metadata": {},
   "outputs": [],
   "source": [
    "# XGboost "
   ]
  },
  {
   "cell_type": "code",
   "execution_count": 17,
   "metadata": {},
   "outputs": [],
   "source": [
    "# CatGboost "
   ]
  },
  {
   "cell_type": "code",
   "execution_count": 18,
   "metadata": {},
   "outputs": [],
   "source": [
    "# LightGboost"
   ]
  },
  {
   "cell_type": "code",
   "execution_count": 19,
   "metadata": {},
   "outputs": [],
   "source": [
    "# Ordinal SVM "
   ]
  },
  {
   "cell_type": "code",
   "execution_count": 20,
   "metadata": {},
   "outputs": [],
   "source": [
    "# Neural Networks for Ordinal Data ( DeepLearning)"
   ]
  },
  {
   "cell_type": "markdown",
   "metadata": {},
   "source": [
    "## Algorithm benchmarking"
   ]
  },
  {
   "cell_type": "code",
   "execution_count": null,
   "metadata": {},
   "outputs": [],
   "source": []
  },
  {
   "cell_type": "markdown",
   "metadata": {},
   "source": [
    "# Detailed analysis on income"
   ]
  },
  {
   "cell_type": "code",
   "execution_count": null,
   "metadata": {},
   "outputs": [],
   "source": []
  },
  {
   "cell_type": "markdown",
   "metadata": {},
   "source": [
    "# Statistical tests "
   ]
  },
  {
   "cell_type": "code",
   "execution_count": null,
   "metadata": {},
   "outputs": [],
   "source": []
  },
  {
   "cell_type": "code",
   "execution_count": null,
   "metadata": {},
   "outputs": [],
   "source": []
  },
  {
   "cell_type": "markdown",
   "metadata": {},
   "source": [
    "# Time series analysis (1981-2022)"
   ]
  },
  {
   "cell_type": "code",
   "execution_count": null,
   "metadata": {},
   "outputs": [],
   "source": []
  },
  {
   "cell_type": "markdown",
   "metadata": {},
   "source": [
    "# Sentiment Analysis on Open-Ended Responses (NLP)"
   ]
  },
  {
   "cell_type": "code",
   "execution_count": null,
   "metadata": {},
   "outputs": [],
   "source": []
  }
 ],
 "metadata": {
  "kernelspec": {
   "display_name": "base",
   "language": "python",
   "name": "python3"
  },
  "language_info": {
   "codemirror_mode": {
    "name": "ipython",
    "version": 3
   },
   "file_extension": ".py",
   "mimetype": "text/x-python",
   "name": "python",
   "nbconvert_exporter": "python",
   "pygments_lexer": "ipython3",
   "version": "3.11.7"
  }
 },
 "nbformat": 4,
 "nbformat_minor": 2
}
